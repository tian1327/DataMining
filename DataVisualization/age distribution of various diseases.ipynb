{
  "nbformat": 4,
  "nbformat_minor": 0,
  "metadata": {
    "colab": {
      "name": "525004380_hw3.ipynb",
      "provenance": [],
      "collapsed_sections": []
    },
    "kernelspec": {
      "name": "python3",
      "display_name": "Python 3"
    },
    "language_info": {
      "name": "python"
    }
  },
  "cells": [
    {
      "cell_type": "code",
      "metadata": {
        "colab": {
          "base_uri": "https://localhost:8080/"
        },
        "id": "j71mdc-zpt64",
        "outputId": "2c151275-552c-4720-af39-25e25838d9ca"
      },
      "source": [
        "from google.colab import drive\n",
        "drive.mount('/content/drive', force_remount=True)"
      ],
      "execution_count": 1,
      "outputs": [
        {
          "output_type": "stream",
          "name": "stdout",
          "text": [
            "Mounted at /content/drive\n"
          ]
        }
      ]
    },
    {
      "cell_type": "code",
      "metadata": {
        "colab": {
          "base_uri": "https://localhost:8080/"
        },
        "id": "yixkIDSmkEoB",
        "outputId": "41c820aa-031e-4aed-fd4e-a458daee340d"
      },
      "source": [
        "import pandas as pd\n",
        "%cd /content/drive/MyDrive/CSCE676_HW3\n",
        "\n",
        "data = pd.read_csv('drug_abuse_data.csv')"
      ],
      "execution_count": 2,
      "outputs": [
        {
          "output_type": "stream",
          "name": "stdout",
          "text": [
            "/content/drive/MyDrive/CSCE676_HW3\n"
          ]
        },
        {
          "output_type": "stream",
          "name": "stderr",
          "text": [
            "/usr/local/lib/python3.7/dist-packages/IPython/core/interactiveshell.py:2718: DtypeWarning: Columns (2576) have mixed types.Specify dtype option on import or set low_memory=False.\n",
            "  interactivity=interactivity, compiler=compiler, result=result)\n"
          ]
        }
      ]
    },
    {
      "cell_type": "code",
      "metadata": {
        "id": "Y42vkNAoa5k9"
      },
      "source": [
        "df1 = data[['hrtcondag','highbpage','diabeteag','copdage','cirrosage','hepbcage','kidnydsag','asthmaage','hivaidsag']]"
      ],
      "execution_count": 191,
      "outputs": []
    },
    {
      "cell_type": "code",
      "metadata": {
        "colab": {
          "base_uri": "https://localhost:8080/",
          "height": 297
        },
        "id": "XgjCWzMGlPEM",
        "outputId": "9bb3b320-752f-446c-ad23-208d1f11e5f7"
      },
      "source": [
        "df1.describe()"
      ],
      "execution_count": 150,
      "outputs": [
        {
          "output_type": "execute_result",
          "data": {
            "text/html": [
              "<div>\n",
              "<style scoped>\n",
              "    .dataframe tbody tr th:only-of-type {\n",
              "        vertical-align: middle;\n",
              "    }\n",
              "\n",
              "    .dataframe tbody tr th {\n",
              "        vertical-align: top;\n",
              "    }\n",
              "\n",
              "    .dataframe thead th {\n",
              "        text-align: right;\n",
              "    }\n",
              "</style>\n",
              "<table border=\"1\" class=\"dataframe\">\n",
              "  <thead>\n",
              "    <tr style=\"text-align: right;\">\n",
              "      <th></th>\n",
              "      <th>hrtcondag</th>\n",
              "      <th>highbpage</th>\n",
              "      <th>diabeteag</th>\n",
              "      <th>copdage</th>\n",
              "      <th>cirrosage</th>\n",
              "      <th>hepbcage</th>\n",
              "      <th>kidnydsag</th>\n",
              "      <th>asthmaage</th>\n",
              "      <th>hivaidsag</th>\n",
              "    </tr>\n",
              "  </thead>\n",
              "  <tbody>\n",
              "    <tr>\n",
              "      <th>count</th>\n",
              "      <td>56136.000000</td>\n",
              "      <td>56136.000000</td>\n",
              "      <td>56136.000000</td>\n",
              "      <td>56136.000000</td>\n",
              "      <td>56136.000000</td>\n",
              "      <td>56136.000000</td>\n",
              "      <td>56136.000000</td>\n",
              "      <td>56136.00000</td>\n",
              "      <td>56136.000000</td>\n",
              "    </tr>\n",
              "    <tr>\n",
              "      <th>mean</th>\n",
              "      <td>947.862940</td>\n",
              "      <td>935.521448</td>\n",
              "      <td>947.461451</td>\n",
              "      <td>978.746954</td>\n",
              "      <td>997.479728</td>\n",
              "      <td>992.431933</td>\n",
              "      <td>989.497168</td>\n",
              "      <td>894.62402</td>\n",
              "      <td>997.823358</td>\n",
              "    </tr>\n",
              "    <tr>\n",
              "      <th>std</th>\n",
              "      <td>216.007241</td>\n",
              "      <td>238.081259</td>\n",
              "      <td>216.482383</td>\n",
              "      <td>138.275177</td>\n",
              "      <td>37.918688</td>\n",
              "      <td>79.439134</td>\n",
              "      <td>95.103216</td>\n",
              "      <td>303.64212</td>\n",
              "      <td>33.523003</td>\n",
              "    </tr>\n",
              "    <tr>\n",
              "      <th>min</th>\n",
              "      <td>1.000000</td>\n",
              "      <td>1.000000</td>\n",
              "      <td>1.000000</td>\n",
              "      <td>1.000000</td>\n",
              "      <td>1.000000</td>\n",
              "      <td>1.000000</td>\n",
              "      <td>1.000000</td>\n",
              "      <td>1.00000</td>\n",
              "      <td>5.000000</td>\n",
              "    </tr>\n",
              "    <tr>\n",
              "      <th>25%</th>\n",
              "      <td>999.000000</td>\n",
              "      <td>999.000000</td>\n",
              "      <td>999.000000</td>\n",
              "      <td>999.000000</td>\n",
              "      <td>999.000000</td>\n",
              "      <td>999.000000</td>\n",
              "      <td>999.000000</td>\n",
              "      <td>999.00000</td>\n",
              "      <td>999.000000</td>\n",
              "    </tr>\n",
              "    <tr>\n",
              "      <th>50%</th>\n",
              "      <td>999.000000</td>\n",
              "      <td>999.000000</td>\n",
              "      <td>999.000000</td>\n",
              "      <td>999.000000</td>\n",
              "      <td>999.000000</td>\n",
              "      <td>999.000000</td>\n",
              "      <td>999.000000</td>\n",
              "      <td>999.00000</td>\n",
              "      <td>999.000000</td>\n",
              "    </tr>\n",
              "    <tr>\n",
              "      <th>75%</th>\n",
              "      <td>999.000000</td>\n",
              "      <td>999.000000</td>\n",
              "      <td>999.000000</td>\n",
              "      <td>999.000000</td>\n",
              "      <td>999.000000</td>\n",
              "      <td>999.000000</td>\n",
              "      <td>999.000000</td>\n",
              "      <td>999.00000</td>\n",
              "      <td>999.000000</td>\n",
              "    </tr>\n",
              "    <tr>\n",
              "      <th>max</th>\n",
              "      <td>999.000000</td>\n",
              "      <td>999.000000</td>\n",
              "      <td>999.000000</td>\n",
              "      <td>999.000000</td>\n",
              "      <td>999.000000</td>\n",
              "      <td>999.000000</td>\n",
              "      <td>999.000000</td>\n",
              "      <td>999.00000</td>\n",
              "      <td>999.000000</td>\n",
              "    </tr>\n",
              "  </tbody>\n",
              "</table>\n",
              "</div>"
            ],
            "text/plain": [
              "          hrtcondag     highbpage  ...    asthmaage     hivaidsag\n",
              "count  56136.000000  56136.000000  ...  56136.00000  56136.000000\n",
              "mean     947.862940    935.521448  ...    894.62402    997.823358\n",
              "std      216.007241    238.081259  ...    303.64212     33.523003\n",
              "min        1.000000      1.000000  ...      1.00000      5.000000\n",
              "25%      999.000000    999.000000  ...    999.00000    999.000000\n",
              "50%      999.000000    999.000000  ...    999.00000    999.000000\n",
              "75%      999.000000    999.000000  ...    999.00000    999.000000\n",
              "max      999.000000    999.000000  ...    999.00000    999.000000\n",
              "\n",
              "[8 rows x 9 columns]"
            ]
          },
          "metadata": {},
          "execution_count": 150
        }
      ]
    },
    {
      "cell_type": "code",
      "metadata": {
        "colab": {
          "base_uri": "https://localhost:8080/"
        },
        "id": "U7nJeObNqM8E",
        "outputId": "e4111af1-6f71-4df9-9bb4-26f6466312b0"
      },
      "source": [
        "# format the data to fit in the plot code below\n",
        "\n",
        "def collect_data(age, catg, col_name, df):\n",
        "  for c, n in col_name:\n",
        "    for r in range(df.shape[0]):\n",
        "      a = df[c].values[r]\n",
        "      if 0 < a < 100: \n",
        "        age.append(a)\n",
        "        catg.append(n)\n",
        "  \n",
        "  return age, catg\n",
        "\n",
        "y = [     ('asthmaage','Asthma'),\n",
        "     ('hrtcondag','Heart Condition'),\n",
        "     ('copdage','COPD'),\n",
        "     ('kidnydsag','Kidney'),\n",
        "     ('hivaidsag','HIV/AIDS'),\n",
        "     ('hepbcage','Hepatitis'),\n",
        "     ('highbpage','High Blood Pressure'),\n",
        "     ('diabeteag','Diabetes'),\n",
        "     ('cirrosage','Cirrhosis'),\n",
        "          \n",
        "\n",
        "     ]\n",
        "\n",
        "catg = []\n",
        "age = []\n",
        "\n",
        "df = df1\n",
        "age1, catg1 = collect_data(age, catg, y, df)\n",
        "\n",
        "age = age1\n",
        "catg = catg1\n",
        "\n",
        "# g = np.tile(list(\"ABCDEFGHIJ\"), 50)\n",
        "\n",
        "df = pd.DataFrame(dict(x=age, g=catg))\n",
        "print(df.info())"
      ],
      "execution_count": 234,
      "outputs": [
        {
          "output_type": "stream",
          "name": "stdout",
          "text": [
            "<class 'pandas.core.frame.DataFrame'>\n",
            "RangeIndex: 17901 entries, 0 to 17900\n",
            "Data columns (total 2 columns):\n",
            " #   Column  Non-Null Count  Dtype \n",
            "---  ------  --------------  ----- \n",
            " 0   x       17901 non-null  int64 \n",
            " 1   g       17901 non-null  object\n",
            "dtypes: int64(1), object(1)\n",
            "memory usage: 279.8+ KB\n",
            "None\n"
          ]
        }
      ]
    },
    {
      "cell_type": "code",
      "metadata": {
        "colab": {
          "base_uri": "https://localhost:8080/",
          "height": 670
        },
        "id": "x1SL0SbCVju_",
        "outputId": "63f1b192-842c-4e73-b713-56d3843a08b0"
      },
      "source": [
        "import numpy as np\n",
        "import pandas as pd\n",
        "import seaborn as sns\n",
        "import matplotlib.pyplot as plt\n",
        "\n",
        "sns.set_theme(style=\"white\", rc={\"axes.facecolor\": (0, 0, 0, 0)})\n",
        "\n",
        "df = pd.DataFrame(dict(x=age, g=catg))\n",
        "\n",
        "# Initialize the FacetGrid object\n",
        "# pal = sns.cubehelix_palette(10, rot=-.25, light=.7)\n",
        "pal = sns.cubehelix_palette(10, start=2.8, rot=-.4, light=.7)\n",
        "\n",
        "g = sns.FacetGrid(df, row=\"g\", hue=\"g\", aspect=10, height=1, palette=pal)\n",
        "\n",
        "# Draw the densities in a few steps\n",
        "g.map(sns.kdeplot, \"x\", gridsize = 200,\n",
        "      bw_adjust=1, clip_on=False,\n",
        "      fill=True, alpha=1, linewidth=1.0)\n",
        "\n",
        "g.map(sns.kdeplot, \"x\", clip_on=False, color=\"w\", lw=2, bw_adjust=1)\n",
        "\n",
        "# passing color=None to refline() uses the hue mapping\n",
        "g.refline(y=0, linewidth=2, linestyle=\"-\", color=None, clip_on=False)\n",
        "\n",
        "# Define and use a simple function to label the plot in axes coordinates\n",
        "def label(x, color, label):\n",
        "    ax = plt.gca()\n",
        "    ax.text(0, 0.2, label, fontweight=\"bold\", color=color,\n",
        "            ha=\"left\", va=\"center\", transform=ax.transAxes)\n",
        "\n",
        "\n",
        "g.map(label, \"x\")\n",
        "\n",
        "# Set the subplots to overlap\n",
        "g.figure.subplots_adjust(hspace=-.25)\n",
        "\n",
        "# Remove axes details that don't play well with overlap\n",
        "# g.set_titles(\"Age Distribution of First Usage of Different Substances\")\n",
        "g.set_titles(\"\")\n",
        "g.set(yticks=[], ylabel=\"\")\n",
        "g.despine(bottom=True, left=True)\n",
        "\n",
        "# g.fig.subplots_adjust(top=0.9)\n",
        "g.fig.suptitle('Age Distribution of First Diagnose of Various Diseases\\n(Humps sorted by age)', fontsize=16, fontweight='bold')\n",
        "g.set_xlabels(label=\"Age\", fontsize=12)\n",
        "# g.set_xticklabels([\"0\",\"20\",\"40\",\"60\",\"80\"], fontsize=12)\n",
        "# g.set_xticklabels(fontsize=12)"
      ],
      "execution_count": 235,
      "outputs": [
        {
          "output_type": "execute_result",
          "data": {
            "text/plain": [
              "<seaborn.axisgrid.FacetGrid at 0x7f992fb576d0>"
            ]
          },
          "metadata": {},
          "execution_count": 235
        },
        {
          "output_type": "display_data",
          "data": {
            "image/png": "[encoded data removed]",
            "text/plain": [
              "<Figure size 720x648 with 9 Axes>"
            ]
          },
          "metadata": {}
        }
      ]
    },
    {
      "cell_type": "code",
      "metadata": {
        "colab": {
          "base_uri": "https://localhost:8080/",
          "height": 302
        },
        "id": "9KIvqPdsiBWB",
        "outputId": "ba321b51-07cd-4d71-a6f6-005f8d6750c0"
      },
      "source": [
        "sns.kdeplot(data=df, x=\"x\", hue=\"g\", multiple=\"stack\")"
      ],
      "execution_count": 130,
      "outputs": [
        {
          "output_type": "execute_result",
          "data": {
            "text/plain": [
              "<matplotlib.axes._subplots.AxesSubplot at 0x7f995db77f50>"
            ]
          },
          "metadata": {},
          "execution_count": 130
        },
        {
          "output_type": "display_data",
          "data": {
            "image/png": "[encoded data removed]",
            "text/plain": [
              "<Figure size 432x288 with 1 Axes>"
            ]
          },
          "metadata": {}
        }
      ]
    },
    {
      "cell_type": "code",
      "metadata": {
        "colab": {
          "base_uri": "https://localhost:8080/",
          "height": 438
        },
        "id": "bIxOyVrDeeZa",
        "outputId": "cdeb5709-b8ab-4f2a-d6a4-da2f08bcfd81"
      },
      "source": [
        "import numpy as np\n",
        "import pandas as pd\n",
        "import seaborn as sns\n",
        "import matplotlib.pyplot as plt\n",
        "\n",
        "sns.set_theme(style=\"white\", rc={\"axes.facecolor\": (0, 0, 0, 0)})\n",
        "\n",
        "# Create the data\n",
        "# rs = np.random.RandomState(1979)\n",
        "# x = rs.randn(500)\n",
        "\n",
        "# g = np.tile([\"Alcohol\",\"Cigarette\",\"Marijuana\"], 50)\n",
        "\n",
        "age = age2\n",
        "catg = catg2\n",
        "\n",
        "# g = np.tile(list(\"ABCDEFGHIJ\"), 50)\n",
        "df = pd.DataFrame(dict(x=age, g=catg))\n",
        "\n",
        "# m = df.g.map(ord)\n",
        "#df[\"x\"] += m\n",
        "\n",
        "# Initialize the FacetGrid object\n",
        "pal = sns.cubehelix_palette(10, rot=-.25, light=.7)\n",
        "g = sns.FacetGrid(df, row=\"g\", hue=\"g\", aspect=5, height=3, palette=pal)\n",
        "\n",
        "# Draw the densities in a few steps\n",
        "g.map(sns.kdeplot, \"x\",gridsize = 200,\n",
        "      bw_adjust=1, clip_on=False,\n",
        "      fill=True, alpha=1, linewidth=1.0)\n",
        "\n",
        "g.map(sns.kdeplot, \"x\", clip_on=False, color=\"w\", lw=2, bw_adjust=1)\n",
        "\n",
        "# passing color=None to refline() uses the hue mapping\n",
        "g.refline(y=0, linewidth=2, linestyle=\"-\", color=None, clip_on=False)\n",
        "\n",
        "\n",
        "# Define and use a simple function to label the plot in axes coordinates\n",
        "def label(x, color, label):\n",
        "    ax = plt.gca()\n",
        "    ax.text(0, 0.2, label, fontweight=\"bold\", color=color,\n",
        "            ha=\"left\", va=\"center\", transform=ax.transAxes)\n",
        "\n",
        "\n",
        "g.map(label, \"x\")\n",
        "\n",
        "# Set the subplots to overlap\n",
        "g.figure.subplots_adjust(hspace=-.25)\n",
        "\n",
        "# Remove axes details that don't play well with overlap\n",
        "# g.set_titles(\"Age Distribution of First Usage of Different Substances\")\n",
        "g.set_titles(\"\")\n",
        "g.set(yticks=[], ylabel=\"\")\n",
        "g.despine(bottom=True, left=True)"
      ],
      "execution_count": 83,
      "outputs": [
        {
          "output_type": "execute_result",
          "data": {
            "text/plain": [
              "<seaborn.axisgrid.FacetGrid at 0x7f30a177de50>"
            ]
          },
          "metadata": {},
          "execution_count": 83
        },
        {
          "output_type": "display_data",
          "data": {
            "image/png": "[encoded data removed]",
            "text/plain": [
              "<Figure size 1080x432 with 2 Axes>"
            ]
          },
          "metadata": {}
        }
      ]
    },
    {
      "cell_type": "code",
      "metadata": {
        "colab": {
          "base_uri": "https://localhost:8080/"
        },
        "id": "kiLovjvpX8Dp",
        "outputId": "b7f96853-2474-4585-b2a5-a95999296ed3"
      },
      "source": [
        "# df.head()\n",
        "print(df[\"x\"])\n",
        "df[\"x\"] += m\n",
        "print(df[\"x\"])"
      ],
      "execution_count": 9,
      "outputs": [
        {
          "output_type": "stream",
          "name": "stdout",
          "text": [
            "0      259.038123\n",
            "1      264.147050\n",
            "2      267.370011\n",
            "3      272.791019\n",
            "4      277.583534\n",
            "          ...    \n",
            "495    279.358022\n",
            "496    285.212877\n",
            "497    286.474247\n",
            "498    292.251022\n",
            "499    296.461828\n",
            "Name: x, Length: 500, dtype: float64\n",
            "0      324.038123\n",
            "1      330.147050\n",
            "2      334.370011\n",
            "3      340.791019\n",
            "4      346.583534\n",
            "          ...    \n",
            "495    349.358022\n",
            "496    356.212877\n",
            "497    358.474247\n",
            "498    365.251022\n",
            "499    370.461828\n",
            "Name: x, Length: 500, dtype: float64\n"
          ]
        }
      ]
    },
    {
      "cell_type": "markdown",
      "metadata": {
        "id": "ho87NHF_FnWe"
      },
      "source": [
        "idea 3 heatmap correlation with cancer type and drug usage"
      ]
    },
    {
      "cell_type": "code",
      "metadata": {
        "id": "MkBfd5f5Fr4c"
      },
      "source": [
        "import pandas as pd\n",
        "%cd /content/drive/MyDrive/CSCE676_HW3\n",
        "\n",
        "data = pd.read_csv('drug_abuse_data.csv')\n",
        "\n",
        "key_dict = {'cakidney':'Kidney',\n",
        "            'camelanom':'Melanoma',\n",
        "            'cabladder':'Bladder',\n",
        "            'cabloleulym':'Blood/LEUKEMIA/LYMPHOMA',\n",
        "            'CAOTHER2':'Other',\n",
        "            'cabreast':'Breast',\n",
        "            'caesopstom':'Stomach',\n",
        "            'cagallivpan':'Liver',\n",
        "            'calarylung': 'Lung',\n",
        "            'camoutthro':'Mouth',\n",
        "            'cathyroid':'THYROID',\n",
        "            'caskinoth':'Skin',\n",
        "            'cadrkcocn': 'Cocaine',\n",
        "            'heroin':\n",
        "            }\n",
        "\n",
        "col = key_dict.keys()\n",
        "col.append('')\n",
        "\n",
        "df = data[]"
      ],
      "execution_count": null,
      "outputs": []
    },
    {
      "cell_type": "code",
      "metadata": {
        "colab": {
          "base_uri": "https://localhost:8080/",
          "height": 557
        },
        "id": "vvQHQWugGpBm",
        "outputId": "7d45512e-fb9e-4135-9760-3dfae3215a10"
      },
      "source": [
        "from string import ascii_letters\n",
        "import numpy as np\n",
        "import pandas as pd\n",
        "import seaborn as sns\n",
        "import matplotlib.pyplot as plt\n",
        "\n",
        "sns.set_theme(style=\"white\")\n",
        "\n",
        "# Generate a large random dataset\n",
        "rs = np.random.RandomState(33)\n",
        "d = pd.DataFrame(data=rs.normal(size=(100, 26)),\n",
        "                 columns=list(ascii_letters[26:]))\n",
        "\n",
        "# Compute the correlation matrix\n",
        "corr = d.corr()\n",
        "\n",
        "# Generate a mask for the upper triangle\n",
        "mask = np.triu(np.ones_like(corr, dtype=bool))\n",
        "\n",
        "# Set up the matplotlib figure\n",
        "f, ax = plt.subplots(figsize=(11, 9))\n",
        "\n",
        "# Generate a custom diverging colormap\n",
        "cmap = sns.diverging_palette(230, 20, as_cmap=True)\n",
        "\n",
        "# Draw the heatmap with the mask and correct aspect ratio\n",
        "sns.heatmap(corr, mask=mask, cmap=cmap, vmax=.3, center=0,\n",
        "            square=True, linewidths=.5, cbar_kws={\"shrink\": .5})"
      ],
      "execution_count": 44,
      "outputs": [
        {
          "output_type": "execute_result",
          "data": {
            "text/plain": [
              "<matplotlib.axes._subplots.AxesSubplot at 0x7f30a23d9650>"
            ]
          },
          "metadata": {},
          "execution_count": 44
        },
        {
          "output_type": "display_data",
          "data": {
            "image/png": "[encoded data removed]",
            "text/plain": [
              "<Figure size 792x648 with 2 Axes>"
            ]
          },
          "metadata": {}
        }
      ]
    },
    {
      "cell_type": "markdown",
      "metadata": {
        "id": "DaKr90az9cY1"
      },
      "source": [
        "idea 2"
      ]
    },
    {
      "cell_type": "code",
      "metadata": {
        "colab": {
          "base_uri": "https://localhost:8080/",
          "height": 297
        },
        "id": "kneA32VE-EVH",
        "outputId": "65ffcd51-07ff-4755-d2e5-11628c33c47f"
      },
      "source": [
        "# df = data[['ANYEDUC3','wrkdrgedu','txyrpriad']]\n",
        "\n",
        "# df = data[['combatpy','AD_MDEA4','adwrspln','service']]\n",
        "\n",
        "df = data[['alcever','cagallivpan']]\n",
        "df.head()\n",
        "df.describe()"
      ],
      "execution_count": 119,
      "outputs": [
        {
          "output_type": "execute_result",
          "data": {
            "text/html": [
              "<div>\n",
              "<style scoped>\n",
              "    .dataframe tbody tr th:only-of-type {\n",
              "        vertical-align: middle;\n",
              "    }\n",
              "\n",
              "    .dataframe tbody tr th {\n",
              "        vertical-align: top;\n",
              "    }\n",
              "\n",
              "    .dataframe thead th {\n",
              "        text-align: right;\n",
              "    }\n",
              "</style>\n",
              "<table border=\"1\" class=\"dataframe\">\n",
              "  <thead>\n",
              "    <tr style=\"text-align: right;\">\n",
              "      <th></th>\n",
              "      <th>alcever</th>\n",
              "      <th>cagallivpan</th>\n",
              "    </tr>\n",
              "  </thead>\n",
              "  <tbody>\n",
              "    <tr>\n",
              "      <th>count</th>\n",
              "      <td>56136.000000</td>\n",
              "      <td>56136.000000</td>\n",
              "    </tr>\n",
              "    <tr>\n",
              "      <th>mean</th>\n",
              "      <td>1.335026</td>\n",
              "      <td>96.351913</td>\n",
              "    </tr>\n",
              "    <tr>\n",
              "      <th>std</th>\n",
              "      <td>2.197573</td>\n",
              "      <td>15.732502</td>\n",
              "    </tr>\n",
              "    <tr>\n",
              "      <th>min</th>\n",
              "      <td>1.000000</td>\n",
              "      <td>1.000000</td>\n",
              "    </tr>\n",
              "    <tr>\n",
              "      <th>25%</th>\n",
              "      <td>1.000000</td>\n",
              "      <td>99.000000</td>\n",
              "    </tr>\n",
              "    <tr>\n",
              "      <th>50%</th>\n",
              "      <td>1.000000</td>\n",
              "      <td>99.000000</td>\n",
              "    </tr>\n",
              "    <tr>\n",
              "      <th>75%</th>\n",
              "      <td>2.000000</td>\n",
              "      <td>99.000000</td>\n",
              "    </tr>\n",
              "    <tr>\n",
              "      <th>max</th>\n",
              "      <td>97.000000</td>\n",
              "      <td>99.000000</td>\n",
              "    </tr>\n",
              "  </tbody>\n",
              "</table>\n",
              "</div>"
            ],
            "text/plain": [
              "            alcever   cagallivpan\n",
              "count  56136.000000  56136.000000\n",
              "mean       1.335026     96.351913\n",
              "std        2.197573     15.732502\n",
              "min        1.000000      1.000000\n",
              "25%        1.000000     99.000000\n",
              "50%        1.000000     99.000000\n",
              "75%        2.000000     99.000000\n",
              "max       97.000000     99.000000"
            ]
          },
          "metadata": {},
          "execution_count": 119
        }
      ]
    },
    {
      "cell_type": "code",
      "metadata": {
        "colab": {
          "base_uri": "https://localhost:8080/"
        },
        "id": "IbEUWrfAPf_o",
        "outputId": "a7a5d891-195d-4613-8ad5-fd2b7765dd78"
      },
      "source": [
        "df_1 = df[(df['alcever'] == 1)]\n",
        "df_2 = df[df['alcever'] == 2]\n",
        "\n",
        "print(len(df_1[df_1['cagallivpan']==1]))#, print(len())\n",
        "print(len(df_1[df_1['cagallivpan']==2]))\n",
        "\n",
        "\n",
        "\n",
        "print(len(df_2[df_2['cagallivpan']==1]))\n",
        "print(len(df_2[df_2['cagallivpan']==2]))\n",
        "\n",
        "print(df_1.describe())\n",
        "print(df_2.describe())"
      ],
      "execution_count": 120,
      "outputs": [
        {
          "output_type": "stream",
          "name": "stdout",
          "text": [
            "19\n",
            "1348\n",
            "4\n",
            "146\n",
            "       alcever   cagallivpan\n",
            "count  40098.0  40098.000000\n",
            "mean       1.0     95.668662\n",
            "std        0.0     17.606009\n",
            "min        1.0      1.000000\n",
            "25%        1.0     99.000000\n",
            "50%        1.0     99.000000\n",
            "75%        1.0     99.000000\n",
            "max        1.0     99.000000\n",
            "       alcever   cagallivpan\n",
            "count  16008.0  16008.000000\n",
            "mean       2.0     98.058783\n",
            "std        0.0      9.350741\n",
            "min        2.0      1.000000\n",
            "25%        2.0     99.000000\n",
            "50%        2.0     99.000000\n",
            "75%        2.0     99.000000\n",
            "max        2.0     99.000000\n"
          ]
        }
      ]
    },
    {
      "cell_type": "code",
      "metadata": {
        "id": "1BgwcK349e7m"
      },
      "source": [
        "import seaborn as sns\n",
        "sns.set_theme(style=\"whitegrid\")\n",
        "\n",
        "penguins = sns.load_dataset(\"penguins\")\n",
        "\n",
        "# Draw a nested barplot by species and sex\n",
        "g = sns.catplot(\n",
        "    data=penguins, kind=\"bar\",\n",
        "    x=\"species\", y=\"body_mass_g\", hue=\"sex\",\n",
        "    ci=\"sd\", palette=\"dark\", alpha=.6, height=6\n",
        ")\n",
        "g.despine(left=True)\n",
        "g.set_axis_labels(\"\", \"Body mass (g)\")\n",
        "g.legend.set_title(\"\")"
      ],
      "execution_count": null,
      "outputs": []
    },
    {
      "cell_type": "code",
      "metadata": {
        "id": "qNfyu8Ru96yw"
      },
      "source": [
        ""
      ],
      "execution_count": null,
      "outputs": []
    },
    {
      "cell_type": "code",
      "metadata": {
        "colab": {
          "base_uri": "https://localhost:8080/",
          "height": 420
        },
        "id": "nmFCqHy59dkG",
        "outputId": "fe51e384-35b9-422d-9cd2-ce374d5b8856"
      },
      "source": [
        "\n",
        "import seaborn as sns\n",
        "sns.set_theme(style=\"whitegrid\")\n",
        "\n",
        "penguins = sns.load_dataset(\"penguins\")\n",
        "\n",
        "# Draw a nested barplot by species and sex\n",
        "g = sns.catplot(\n",
        "    data=penguins, kind=\"bar\",\n",
        "    x=\"species\", y=\"body_mass_g\", hue=\"sex\",\n",
        "    ci=\"sd\", palette=\"dark\", alpha=.6, height=6\n",
        ")\n",
        "g.despine(left=True)\n",
        "g.set_axis_labels(\"\", \"Body mass (g)\")\n",
        "g.legend.set_title(\"\")"
      ],
      "execution_count": 40,
      "outputs": [
        {
          "output_type": "display_data",
          "data": {
            "image/png": "[encoded data removed]",
            "text/plain": [
              "<Figure size 511.725x432 with 1 Axes>"
            ]
          },
          "metadata": {}
        }
      ]
    },
    {
      "cell_type": "code",
      "metadata": {
        "colab": {
          "base_uri": "https://localhost:8080/",
          "height": 204
        },
        "id": "G3agjNb39pf6",
        "outputId": "9959a3ad-a85b-407a-9152-fb6ce82f4920"
      },
      "source": [
        "penguins.head()"
      ],
      "execution_count": 39,
      "outputs": [
        {
          "output_type": "execute_result",
          "data": {
            "text/html": [
              "<div>\n",
              "<style scoped>\n",
              "    .dataframe tbody tr th:only-of-type {\n",
              "        vertical-align: middle;\n",
              "    }\n",
              "\n",
              "    .dataframe tbody tr th {\n",
              "        vertical-align: top;\n",
              "    }\n",
              "\n",
              "    .dataframe thead th {\n",
              "        text-align: right;\n",
              "    }\n",
              "</style>\n",
              "<table border=\"1\" class=\"dataframe\">\n",
              "  <thead>\n",
              "    <tr style=\"text-align: right;\">\n",
              "      <th></th>\n",
              "      <th>species</th>\n",
              "      <th>island</th>\n",
              "      <th>bill_length_mm</th>\n",
              "      <th>bill_depth_mm</th>\n",
              "      <th>flipper_length_mm</th>\n",
              "      <th>body_mass_g</th>\n",
              "      <th>sex</th>\n",
              "    </tr>\n",
              "  </thead>\n",
              "  <tbody>\n",
              "    <tr>\n",
              "      <th>0</th>\n",
              "      <td>Adelie</td>\n",
              "      <td>Torgersen</td>\n",
              "      <td>39.1</td>\n",
              "      <td>18.7</td>\n",
              "      <td>181.0</td>\n",
              "      <td>3750.0</td>\n",
              "      <td>Male</td>\n",
              "    </tr>\n",
              "    <tr>\n",
              "      <th>1</th>\n",
              "      <td>Adelie</td>\n",
              "      <td>Torgersen</td>\n",
              "      <td>39.5</td>\n",
              "      <td>17.4</td>\n",
              "      <td>186.0</td>\n",
              "      <td>3800.0</td>\n",
              "      <td>Female</td>\n",
              "    </tr>\n",
              "    <tr>\n",
              "      <th>2</th>\n",
              "      <td>Adelie</td>\n",
              "      <td>Torgersen</td>\n",
              "      <td>40.3</td>\n",
              "      <td>18.0</td>\n",
              "      <td>195.0</td>\n",
              "      <td>3250.0</td>\n",
              "      <td>Female</td>\n",
              "    </tr>\n",
              "    <tr>\n",
              "      <th>3</th>\n",
              "      <td>Adelie</td>\n",
              "      <td>Torgersen</td>\n",
              "      <td>NaN</td>\n",
              "      <td>NaN</td>\n",
              "      <td>NaN</td>\n",
              "      <td>NaN</td>\n",
              "      <td>NaN</td>\n",
              "    </tr>\n",
              "    <tr>\n",
              "      <th>4</th>\n",
              "      <td>Adelie</td>\n",
              "      <td>Torgersen</td>\n",
              "      <td>36.7</td>\n",
              "      <td>19.3</td>\n",
              "      <td>193.0</td>\n",
              "      <td>3450.0</td>\n",
              "      <td>Female</td>\n",
              "    </tr>\n",
              "  </tbody>\n",
              "</table>\n",
              "</div>"
            ],
            "text/plain": [
              "  species     island  bill_length_mm  ...  flipper_length_mm  body_mass_g     sex\n",
              "0  Adelie  Torgersen            39.1  ...              181.0       3750.0    Male\n",
              "1  Adelie  Torgersen            39.5  ...              186.0       3800.0  Female\n",
              "2  Adelie  Torgersen            40.3  ...              195.0       3250.0  Female\n",
              "3  Adelie  Torgersen             NaN  ...                NaN          NaN     NaN\n",
              "4  Adelie  Torgersen            36.7  ...              193.0       3450.0  Female\n",
              "\n",
              "[5 rows x 7 columns]"
            ]
          },
          "metadata": {},
          "execution_count": 39
        }
      ]
    },
    {
      "cell_type": "code",
      "metadata": {
        "id": "wFKnEeBK94OK"
      },
      "source": [
        ""
      ],
      "execution_count": null,
      "outputs": []
    },
    {
      "cell_type": "markdown",
      "metadata": {
        "id": "MD_JiMfVBJ0h"
      },
      "source": [
        "idea 4: cigeratte useg , age , high blood pressure\n"
      ]
    },
    {
      "cell_type": "code",
      "metadata": {
        "colab": {
          "base_uri": "https://localhost:8080/",
          "height": 317
        },
        "id": "4XYBbl8EBgYm",
        "outputId": "0ada49f1-7dc9-494c-b194-c566d038fd78"
      },
      "source": [
        "df = data[['cigage','copdage','hrtcondag','highbpage','cigavgd','cancerevr','CASUPROB2','abpyillalc','ircgincr','cigever','alcever','cigaryfu','CIG100LF','iralcfy','anyneedl','depndalc']]\n",
        "\n",
        "df =df[(df['highbpage']<100) & (df['hrtcondag']<100)]\n",
        "df.describe()"
      ],
      "execution_count": 131,
      "outputs": [
        {
          "output_type": "execute_result",
          "data": {
            "text/html": [
              "<div>\n",
              "<style scoped>\n",
              "    .dataframe tbody tr th:only-of-type {\n",
              "        vertical-align: middle;\n",
              "    }\n",
              "\n",
              "    .dataframe tbody tr th {\n",
              "        vertical-align: top;\n",
              "    }\n",
              "\n",
              "    .dataframe thead th {\n",
              "        text-align: right;\n",
              "    }\n",
              "</style>\n",
              "<table border=\"1\" class=\"dataframe\">\n",
              "  <thead>\n",
              "    <tr style=\"text-align: right;\">\n",
              "      <th></th>\n",
              "      <th>cigage</th>\n",
              "      <th>copdage</th>\n",
              "      <th>hrtcondag</th>\n",
              "      <th>highbpage</th>\n",
              "      <th>cigavgd</th>\n",
              "      <th>cancerevr</th>\n",
              "      <th>CASUPROB2</th>\n",
              "      <th>abpyillalc</th>\n",
              "      <th>ircgincr</th>\n",
              "      <th>cigever</th>\n",
              "      <th>alcever</th>\n",
              "      <th>cigaryfu</th>\n",
              "      <th>CIG100LF</th>\n",
              "      <th>iralcfy</th>\n",
              "      <th>anyneedl</th>\n",
              "      <th>depndalc</th>\n",
              "    </tr>\n",
              "  </thead>\n",
              "  <tbody>\n",
              "    <tr>\n",
              "      <th>count</th>\n",
              "      <td>829.000000</td>\n",
              "      <td>829.000000</td>\n",
              "      <td>829.000000</td>\n",
              "      <td>829.000000</td>\n",
              "      <td>127.000000</td>\n",
              "      <td>829.000000</td>\n",
              "      <td>825.000000</td>\n",
              "      <td>829.000000</td>\n",
              "      <td>829.000000</td>\n",
              "      <td>829.000000</td>\n",
              "      <td>829.000000</td>\n",
              "      <td>829.00000</td>\n",
              "      <td>829.000000</td>\n",
              "      <td>829.000000</td>\n",
              "      <td>829.000000</td>\n",
              "      <td>829.000000</td>\n",
              "    </tr>\n",
              "    <tr>\n",
              "      <th>mean</th>\n",
              "      <td>539.641737</td>\n",
              "      <td>809.294331</td>\n",
              "      <td>47.417370</td>\n",
              "      <td>45.050663</td>\n",
              "      <td>14.019685</td>\n",
              "      <td>1.829916</td>\n",
              "      <td>0.128485</td>\n",
              "      <td>0.016888</td>\n",
              "      <td>78.554885</td>\n",
              "      <td>1.334138</td>\n",
              "      <td>1.123040</td>\n",
              "      <td>9984.12304</td>\n",
              "      <td>31.644150</td>\n",
              "      <td>461.822678</td>\n",
              "      <td>0.026538</td>\n",
              "      <td>0.018094</td>\n",
              "    </tr>\n",
              "    <tr>\n",
              "      <th>std</th>\n",
              "      <td>487.038170</td>\n",
              "      <td>380.872362</td>\n",
              "      <td>19.573273</td>\n",
              "      <td>15.564106</td>\n",
              "      <td>11.256462</td>\n",
              "      <td>0.375934</td>\n",
              "      <td>0.334832</td>\n",
              "      <td>0.128929</td>\n",
              "      <td>32.316310</td>\n",
              "      <td>0.471973</td>\n",
              "      <td>0.328681</td>\n",
              "      <td>277.00013</td>\n",
              "      <td>42.087699</td>\n",
              "      <td>450.709343</td>\n",
              "      <td>0.160826</td>\n",
              "      <td>0.133372</td>\n",
              "    </tr>\n",
              "    <tr>\n",
              "      <th>min</th>\n",
              "      <td>6.000000</td>\n",
              "      <td>1.000000</td>\n",
              "      <td>1.000000</td>\n",
              "      <td>1.000000</td>\n",
              "      <td>0.500000</td>\n",
              "      <td>1.000000</td>\n",
              "      <td>0.000000</td>\n",
              "      <td>0.000000</td>\n",
              "      <td>1.000000</td>\n",
              "      <td>1.000000</td>\n",
              "      <td>1.000000</td>\n",
              "      <td>2019.00000</td>\n",
              "      <td>1.000000</td>\n",
              "      <td>1.000000</td>\n",
              "      <td>0.000000</td>\n",
              "      <td>0.000000</td>\n",
              "    </tr>\n",
              "    <tr>\n",
              "      <th>25%</th>\n",
              "      <td>18.000000</td>\n",
              "      <td>999.000000</td>\n",
              "      <td>35.000000</td>\n",
              "      <td>35.000000</td>\n",
              "      <td>3.500000</td>\n",
              "      <td>2.000000</td>\n",
              "      <td>0.000000</td>\n",
              "      <td>0.000000</td>\n",
              "      <td>91.000000</td>\n",
              "      <td>1.000000</td>\n",
              "      <td>1.000000</td>\n",
              "      <td>9991.00000</td>\n",
              "      <td>1.000000</td>\n",
              "      <td>24.000000</td>\n",
              "      <td>0.000000</td>\n",
              "      <td>0.000000</td>\n",
              "    </tr>\n",
              "    <tr>\n",
              "      <th>50%</th>\n",
              "      <td>991.000000</td>\n",
              "      <td>999.000000</td>\n",
              "      <td>50.000000</td>\n",
              "      <td>45.000000</td>\n",
              "      <td>10.500000</td>\n",
              "      <td>2.000000</td>\n",
              "      <td>0.000000</td>\n",
              "      <td>0.000000</td>\n",
              "      <td>93.000000</td>\n",
              "      <td>1.000000</td>\n",
              "      <td>1.000000</td>\n",
              "      <td>9991.00000</td>\n",
              "      <td>2.000000</td>\n",
              "      <td>250.000000</td>\n",
              "      <td>0.000000</td>\n",
              "      <td>0.000000</td>\n",
              "    </tr>\n",
              "    <tr>\n",
              "      <th>75%</th>\n",
              "      <td>991.000000</td>\n",
              "      <td>999.000000</td>\n",
              "      <td>62.000000</td>\n",
              "      <td>56.000000</td>\n",
              "      <td>20.500000</td>\n",
              "      <td>2.000000</td>\n",
              "      <td>0.000000</td>\n",
              "      <td>0.000000</td>\n",
              "      <td>93.000000</td>\n",
              "      <td>2.000000</td>\n",
              "      <td>1.000000</td>\n",
              "      <td>9999.00000</td>\n",
              "      <td>91.000000</td>\n",
              "      <td>993.000000</td>\n",
              "      <td>0.000000</td>\n",
              "      <td>0.000000</td>\n",
              "    </tr>\n",
              "    <tr>\n",
              "      <th>max</th>\n",
              "      <td>999.000000</td>\n",
              "      <td>999.000000</td>\n",
              "      <td>98.000000</td>\n",
              "      <td>90.000000</td>\n",
              "      <td>50.000000</td>\n",
              "      <td>2.000000</td>\n",
              "      <td>1.000000</td>\n",
              "      <td>1.000000</td>\n",
              "      <td>98.000000</td>\n",
              "      <td>2.000000</td>\n",
              "      <td>2.000000</td>\n",
              "      <td>9999.00000</td>\n",
              "      <td>91.000000</td>\n",
              "      <td>993.000000</td>\n",
              "      <td>1.000000</td>\n",
              "      <td>1.000000</td>\n",
              "    </tr>\n",
              "  </tbody>\n",
              "</table>\n",
              "</div>"
            ],
            "text/plain": [
              "           cigage     copdage   hrtcondag  ...     iralcfy    anyneedl    depndalc\n",
              "count  829.000000  829.000000  829.000000  ...  829.000000  829.000000  829.000000\n",
              "mean   539.641737  809.294331   47.417370  ...  461.822678    0.026538    0.018094\n",
              "std    487.038170  380.872362   19.573273  ...  450.709343    0.160826    0.133372\n",
              "min      6.000000    1.000000    1.000000  ...    1.000000    0.000000    0.000000\n",
              "25%     18.000000  999.000000   35.000000  ...   24.000000    0.000000    0.000000\n",
              "50%    991.000000  999.000000   50.000000  ...  250.000000    0.000000    0.000000\n",
              "75%    991.000000  999.000000   62.000000  ...  993.000000    0.000000    0.000000\n",
              "max    999.000000  999.000000   98.000000  ...  993.000000    1.000000    1.000000\n",
              "\n",
              "[8 rows x 16 columns]"
            ]
          },
          "metadata": {},
          "execution_count": 131
        }
      ]
    },
    {
      "cell_type": "code",
      "metadata": {
        "colab": {
          "base_uri": "https://localhost:8080/",
          "height": 458
        },
        "id": "AJYVRskvBQrW",
        "outputId": "ffbc14f8-3971-409d-d4a2-72fb31138ba1"
      },
      "source": [
        "\n",
        "import seaborn as sns\n",
        "sns.set_theme(style=\"white\")\n",
        "\n",
        "# Load the example mpg dataset\n",
        "# mpg = sns.load_dataset(\"mpg\")\n",
        "\n",
        "# Plot miles per gallon against horsepower with other semantics\n",
        "sns.relplot(x=\"highbpage\", y=\"highbpage\", \n",
        "            hue=\"alcever\", \n",
        "            # size=\"iralcfy\",\n",
        "            sizes=(40, 400), alpha=.5, palette=\"muted\",\n",
        "            height=6, data=df)\n",
        "\n",
        "plt.ylim(0, 80)\n",
        "plt.xlim(0, 80)"
      ],
      "execution_count": 132,
      "outputs": [
        {
          "output_type": "execute_result",
          "data": {
            "text/plain": [
              "(0.0, 80.0)"
            ]
          },
          "metadata": {},
          "execution_count": 132
        },
        {
          "output_type": "display_data",
          "data": {
            "image/png": "[encoded data removed]",
            "text/plain": [
              "<Figure size 485.05x432 with 1 Axes>"
            ]
          },
          "metadata": {}
        }
      ]
    },
    {
      "cell_type": "code",
      "metadata": {
        "colab": {
          "base_uri": "https://localhost:8080/",
          "height": 204
        },
        "id": "urf3hyX8BTfw",
        "outputId": "bcee3583-717a-4b76-fa39-eeff5e760809"
      },
      "source": [
        "mpg.head()"
      ],
      "execution_count": 31,
      "outputs": [
        {
          "output_type": "execute_result",
          "data": {
            "text/html": [
              "<div>\n",
              "<style scoped>\n",
              "    .dataframe tbody tr th:only-of-type {\n",
              "        vertical-align: middle;\n",
              "    }\n",
              "\n",
              "    .dataframe tbody tr th {\n",
              "        vertical-align: top;\n",
              "    }\n",
              "\n",
              "    .dataframe thead th {\n",
              "        text-align: right;\n",
              "    }\n",
              "</style>\n",
              "<table border=\"1\" class=\"dataframe\">\n",
              "  <thead>\n",
              "    <tr style=\"text-align: right;\">\n",
              "      <th></th>\n",
              "      <th>mpg</th>\n",
              "      <th>cylinders</th>\n",
              "      <th>displacement</th>\n",
              "      <th>horsepower</th>\n",
              "      <th>weight</th>\n",
              "      <th>acceleration</th>\n",
              "      <th>model_year</th>\n",
              "      <th>origin</th>\n",
              "      <th>name</th>\n",
              "    </tr>\n",
              "  </thead>\n",
              "  <tbody>\n",
              "    <tr>\n",
              "      <th>0</th>\n",
              "      <td>18.0</td>\n",
              "      <td>8</td>\n",
              "      <td>307.0</td>\n",
              "      <td>130.0</td>\n",
              "      <td>3504</td>\n",
              "      <td>12.0</td>\n",
              "      <td>70</td>\n",
              "      <td>usa</td>\n",
              "      <td>chevrolet chevelle malibu</td>\n",
              "    </tr>\n",
              "    <tr>\n",
              "      <th>1</th>\n",
              "      <td>15.0</td>\n",
              "      <td>8</td>\n",
              "      <td>350.0</td>\n",
              "      <td>165.0</td>\n",
              "      <td>3693</td>\n",
              "      <td>11.5</td>\n",
              "      <td>70</td>\n",
              "      <td>usa</td>\n",
              "      <td>buick skylark 320</td>\n",
              "    </tr>\n",
              "    <tr>\n",
              "      <th>2</th>\n",
              "      <td>18.0</td>\n",
              "      <td>8</td>\n",
              "      <td>318.0</td>\n",
              "      <td>150.0</td>\n",
              "      <td>3436</td>\n",
              "      <td>11.0</td>\n",
              "      <td>70</td>\n",
              "      <td>usa</td>\n",
              "      <td>plymouth satellite</td>\n",
              "    </tr>\n",
              "    <tr>\n",
              "      <th>3</th>\n",
              "      <td>16.0</td>\n",
              "      <td>8</td>\n",
              "      <td>304.0</td>\n",
              "      <td>150.0</td>\n",
              "      <td>3433</td>\n",
              "      <td>12.0</td>\n",
              "      <td>70</td>\n",
              "      <td>usa</td>\n",
              "      <td>amc rebel sst</td>\n",
              "    </tr>\n",
              "    <tr>\n",
              "      <th>4</th>\n",
              "      <td>17.0</td>\n",
              "      <td>8</td>\n",
              "      <td>302.0</td>\n",
              "      <td>140.0</td>\n",
              "      <td>3449</td>\n",
              "      <td>10.5</td>\n",
              "      <td>70</td>\n",
              "      <td>usa</td>\n",
              "      <td>ford torino</td>\n",
              "    </tr>\n",
              "  </tbody>\n",
              "</table>\n",
              "</div>"
            ],
            "text/plain": [
              "    mpg  cylinders  displacement  ...  model_year  origin                       name\n",
              "0  18.0          8         307.0  ...          70     usa  chevrolet chevelle malibu\n",
              "1  15.0          8         350.0  ...          70     usa          buick skylark 320\n",
              "2  18.0          8         318.0  ...          70     usa         plymouth satellite\n",
              "3  16.0          8         304.0  ...          70     usa              amc rebel sst\n",
              "4  17.0          8         302.0  ...          70     usa                ford torino\n",
              "\n",
              "[5 rows x 9 columns]"
            ]
          },
          "metadata": {},
          "execution_count": 31
        }
      ]
    },
    {
      "cell_type": "markdown",
      "metadata": {
        "id": "tzOO-dXFcxd4"
      },
      "source": [
        "smoke caner types"
      ]
    },
    {
      "cell_type": "code",
      "metadata": {
        "id": "0E8zIzondCm_"
      },
      "source": [
        "df = data[['cancerevr','cigever','CIG100LF']]\n",
        "\n",
        "df =df[(df['highbpage']<100) & (df['hrtcondag']<100)]\n",
        "df.describe()"
      ],
      "execution_count": null,
      "outputs": []
    },
    {
      "cell_type": "code",
      "metadata": {
        "colab": {
          "base_uri": "https://localhost:8080/",
          "height": 204
        },
        "id": "Vzj3G7jac7Ck",
        "outputId": "eed8a646-5bdc-405e-8193-c65f7e15f41f"
      },
      "source": [
        "df.head()"
      ],
      "execution_count": 118,
      "outputs": [
        {
          "output_type": "execute_result",
          "data": {
            "text/html": [
              "<div>\n",
              "<style scoped>\n",
              "    .dataframe tbody tr th:only-of-type {\n",
              "        vertical-align: middle;\n",
              "    }\n",
              "\n",
              "    .dataframe tbody tr th {\n",
              "        vertical-align: top;\n",
              "    }\n",
              "\n",
              "    .dataframe thead th {\n",
              "        text-align: right;\n",
              "    }\n",
              "</style>\n",
              "<table border=\"1\" class=\"dataframe\">\n",
              "  <thead>\n",
              "    <tr style=\"text-align: right;\">\n",
              "      <th></th>\n",
              "      <th>survived</th>\n",
              "      <th>pclass</th>\n",
              "      <th>sex</th>\n",
              "      <th>age</th>\n",
              "      <th>sibsp</th>\n",
              "      <th>parch</th>\n",
              "      <th>fare</th>\n",
              "      <th>embarked</th>\n",
              "      <th>class</th>\n",
              "      <th>who</th>\n",
              "      <th>adult_male</th>\n",
              "      <th>deck</th>\n",
              "      <th>embark_town</th>\n",
              "      <th>alive</th>\n",
              "      <th>alone</th>\n",
              "    </tr>\n",
              "  </thead>\n",
              "  <tbody>\n",
              "    <tr>\n",
              "      <th>0</th>\n",
              "      <td>0</td>\n",
              "      <td>3</td>\n",
              "      <td>male</td>\n",
              "      <td>22.0</td>\n",
              "      <td>1</td>\n",
              "      <td>0</td>\n",
              "      <td>7.2500</td>\n",
              "      <td>S</td>\n",
              "      <td>Third</td>\n",
              "      <td>man</td>\n",
              "      <td>True</td>\n",
              "      <td>NaN</td>\n",
              "      <td>Southampton</td>\n",
              "      <td>no</td>\n",
              "      <td>False</td>\n",
              "    </tr>\n",
              "    <tr>\n",
              "      <th>1</th>\n",
              "      <td>1</td>\n",
              "      <td>1</td>\n",
              "      <td>female</td>\n",
              "      <td>38.0</td>\n",
              "      <td>1</td>\n",
              "      <td>0</td>\n",
              "      <td>71.2833</td>\n",
              "      <td>C</td>\n",
              "      <td>First</td>\n",
              "      <td>woman</td>\n",
              "      <td>False</td>\n",
              "      <td>C</td>\n",
              "      <td>Cherbourg</td>\n",
              "      <td>yes</td>\n",
              "      <td>False</td>\n",
              "    </tr>\n",
              "    <tr>\n",
              "      <th>2</th>\n",
              "      <td>1</td>\n",
              "      <td>3</td>\n",
              "      <td>female</td>\n",
              "      <td>26.0</td>\n",
              "      <td>0</td>\n",
              "      <td>0</td>\n",
              "      <td>7.9250</td>\n",
              "      <td>S</td>\n",
              "      <td>Third</td>\n",
              "      <td>woman</td>\n",
              "      <td>False</td>\n",
              "      <td>NaN</td>\n",
              "      <td>Southampton</td>\n",
              "      <td>yes</td>\n",
              "      <td>True</td>\n",
              "    </tr>\n",
              "    <tr>\n",
              "      <th>3</th>\n",
              "      <td>1</td>\n",
              "      <td>1</td>\n",
              "      <td>female</td>\n",
              "      <td>35.0</td>\n",
              "      <td>1</td>\n",
              "      <td>0</td>\n",
              "      <td>53.1000</td>\n",
              "      <td>S</td>\n",
              "      <td>First</td>\n",
              "      <td>woman</td>\n",
              "      <td>False</td>\n",
              "      <td>C</td>\n",
              "      <td>Southampton</td>\n",
              "      <td>yes</td>\n",
              "      <td>False</td>\n",
              "    </tr>\n",
              "    <tr>\n",
              "      <th>4</th>\n",
              "      <td>0</td>\n",
              "      <td>3</td>\n",
              "      <td>male</td>\n",
              "      <td>35.0</td>\n",
              "      <td>0</td>\n",
              "      <td>0</td>\n",
              "      <td>8.0500</td>\n",
              "      <td>S</td>\n",
              "      <td>Third</td>\n",
              "      <td>man</td>\n",
              "      <td>True</td>\n",
              "      <td>NaN</td>\n",
              "      <td>Southampton</td>\n",
              "      <td>no</td>\n",
              "      <td>True</td>\n",
              "    </tr>\n",
              "  </tbody>\n",
              "</table>\n",
              "</div>"
            ],
            "text/plain": [
              "   survived  pclass     sex   age  ...  deck  embark_town  alive  alone\n",
              "0         0       3    male  22.0  ...   NaN  Southampton     no  False\n",
              "1         1       1  female  38.0  ...     C    Cherbourg    yes  False\n",
              "2         1       3  female  26.0  ...   NaN  Southampton    yes   True\n",
              "3         1       1  female  35.0  ...     C  Southampton    yes  False\n",
              "4         0       3    male  35.0  ...   NaN  Southampton     no   True\n",
              "\n",
              "[5 rows x 15 columns]"
            ]
          },
          "metadata": {},
          "execution_count": 118
        }
      ]
    },
    {
      "cell_type": "code",
      "metadata": {
        "colab": {
          "base_uri": "https://localhost:8080/",
          "height": 301
        },
        "id": "rMsLaSBqcw7F",
        "outputId": "56017ba4-aaa9-49f0-c039-4e2885c29df5"
      },
      "source": [
        "df = sns.load_dataset('titanic')\n",
        "sns.set_style('darkgrid')\n",
        "sns.set_palette('Set2')\n",
        "sns.barplot(data=df, x=\"age\", y='class', hue='sex')\n",
        "plt.title('Age and Class of Titanic Passengers')\n",
        "plt.xlabel('Mean Age')\n",
        "plt.ylabel('Class')\n",
        "sns.despine()\n",
        "plt.show()"
      ],
      "execution_count": 117,
      "outputs": [
        {
          "output_type": "display_data",
          "data": {
            "image/png": "[encoded data removed]",
            "text/plain": [
              "<Figure size 432x288 with 1 Axes>"
            ]
          },
          "metadata": {}
        }
      ]
    }
  ]
}